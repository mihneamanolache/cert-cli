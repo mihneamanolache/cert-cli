{
 "cells": [
  {
   "cell_type": "code",
   "execution_count": 6,
   "metadata": {},
   "outputs": [
    {
     "name": "stderr",
     "output_type": "stream",
     "text": [
      "25/02/07 08:51:21 WARN CacheManager: Asked to cache already cached data.\n"
     ]
    },
    {
     "name": "stdout",
     "output_type": "stream",
     "text": [
      "Total Records: 2\n"
     ]
    }
   ],
   "source": [
    "from pyspark.sql import SparkSession\n",
    "from pyspark.sql.functions import col, explode, collect_set, size, desc, when, expr, regexp_replace, udf\n",
    "import os\n",
    "\n",
    "# Initialize Spark session\n",
    "spark = SparkSession.builder.appName(\"JSON Analysis\").getOrCreate()\n",
    "\n",
    "workspace_dir = os.getcwd() \n",
    "json_path = os.path.join(workspace_dir, \"data\", \"*.json\")\n",
    "\n",
    "# Read the JSON files\n",
    "df = spark.read.option(\"multiline\", \"true\").json(json_path).cache()\n",
    "\n",
    "# Count rows in the DataFrame\n",
    "df_count = df.count()\n",
    "print(f\"Total Records: {df_count}\")\n",
    "\n",
    "# Extract certificate details\n",
    "out = (\n",
    "    df.select(explode(col(\"certificates\")).alias(\"certificate\"))\n",
    "    .select(\n",
    "        col(\"certificate.commonName\").alias(\"domain\"),\n",
    "        col(\"certificate.san\"),\n",
    "        col(\"certificate.address\"),\n",
    "        col(\"certificate.organization\")\n",
    "    )\n",
    "    .select(\n",
    "        col(\"domain\"),\n",
    "        explode(col(\"san\")).alias(\"alternate_domain\"),\n",
    "        col(\"address\"),\n",
    "        col(\"organization\")\n",
    "    )\n",
    ")"
   ]
  },
  {
   "cell_type": "code",
   "execution_count": 2,
   "metadata": {},
   "outputs": [
    {
     "name": "stdout",
     "output_type": "stream",
     "text": [
      "root\n",
      " |-- domain: string (nullable = true)\n",
      " |-- subdomains: array (nullable = false)\n",
      " |    |-- element: string (containsNull = false)\n",
      " |-- alternate_domains: array (nullable = false)\n",
      " |    |-- element: string (containsNull = false)\n",
      " |-- organizations: array (nullable = false)\n",
      " |    |-- element: string (containsNull = false)\n",
      " |-- addresses: array (nullable = false)\n",
      " |    |-- element: string (containsNull = false)\n",
      " |-- organizations_count: integer (nullable = false)\n",
      " |-- alternate_domains_count: integer (nullable = false)\n",
      "\n"
     ]
    },
    {
     "name": "stderr",
     "output_type": "stream",
     "text": [
      "25/02/07 08:47:35 WARN GarbageCollectionMetrics: To enable non-built-in garbage collector(s) List(G1 Concurrent GC), users should configure it(them) to spark.eventLog.gcMetrics.youngGenerationGarbageCollectors or spark.eventLog.gcMetrics.oldGenerationGarbageCollectors\n"
     ]
    }
   ],
   "source": [
    "# Aggregate \n",
    "classified = (\n",
    "    out.withColumn(\"domain\", regexp_replace(col(\"domain\"), r\"^\\*\\.\", \"\"))\n",
    "    .withColumn(\"is_self\", col(\"domain\") == col(\"alternate_domain\"))\n",
    "    .withColumn(\"is_subdomain\", expr(\"alternate_domain LIKE concat('%.', domain)\") & ~col(\"is_self\"))\n",
    "    .groupBy(\"domain\")\n",
    "    .agg(\n",
    "        collect_set(when(col(\"is_subdomain\") & ~col(\"is_self\"), col(\"alternate_domain\"))).alias(\"subdomains\"),\n",
    "        collect_set(when(~col(\"is_subdomain\") & ~col(\"is_self\"), col(\"alternate_domain\"))).alias(\"alternate_domains\"),\n",
    "        collect_set(\"organization\").alias(\"organizations\"),\n",
    "        collect_set(\"address\").alias(\"addresses\")\n",
    "    )\n",
    "    .withColumn(\"organizations_count\", size(col(\"organizations\")))\n",
    "    .withColumn(\"alternate_domains_count\", size(col(\"alternate_domains\")))\n",
    "    .orderBy(desc(\"alternate_domains_count\"))\n",
    ")\n",
    "\n",
    "classified.printSchema()"
   ]
  },
  {
   "cell_type": "code",
   "execution_count": 19,
   "metadata": {},
   "outputs": [
    {
     "name": "stdout",
     "output_type": "stream",
     "text": [
      "+---------------------------------+-------------------------------------------------------------------------------------------------------------+------------------------------------------------------------------------------------------------------------------------------------------------------------------------------------------------------------------------------------------------------------------------------------------------------------------------------------------------------------------------------------------------------------------------------------------------------------------------------------------------------------------------------------------------------------+----------------------------------------------------------------------------------------------------------------------------------------------------------------------------------------------------------+-------------------+-------------------+-----------------------+\n",
      "|domain                           |subdomains                                                                                                   |alternate_domains                                                                                                                                                                                                                                                                                                                                                                                                                                                                                                                                           |organizations                                                                                                                                                                                             |addresses          |organizations_count|alternate_domains_count|\n",
      "+---------------------------------+-------------------------------------------------------------------------------------------------------------+------------------------------------------------------------------------------------------------------------------------------------------------------------------------------------------------------------------------------------------------------------------------------------------------------------------------------------------------------------------------------------------------------------------------------------------------------------------------------------------------------------------------------------------------------------+----------------------------------------------------------------------------------------------------------------------------------------------------------------------------------------------------------+-------------------+-------------------+-----------------------+\n",
      "|cumulus.dreamworksstudios.com    |[]                                                                                                           |[exchange.dreamworksstudios.com, ales0101.win.dreamworksstudios.com, dreamworksstudios.com, besvm01.win.dreamworksstudios.com, webmail.dreamworksstudios.com, exchange01.win.dreamworksstudios.com, exnd01.win.dreamworksstudios.com, exhtcvm01.win.dreamworksstudios.com, ASA.dreamworksstudios.com, livecycle.dreamworksstudios.com, exnd02.win.dreamworksstudios.com, vpn.dreamworksstudios.com, exhtcvm03.win.dreamworksstudios.com, autodiscover.dreamworksstudios.com, exhtcvm02.win.dreamworksstudios.com, besvm02.win.dreamworksstudios.com]        |[DREAMWORKS II DISTRIBUTION CO., LLC]                                                                                                                                                                     |[California US]    |1                  |16                     |\n",
      "|exchange.dreamworksstudios.com   |[]                                                                                                           |[ales0101.win.dreamworksstudios.com, dreamworksstudios.com, besvm01.win.dreamworksstudios.com, webmail.dreamworksstudios.com, dwstransfer.dreamworksstudios.com, exchange01.win.dreamworksstudios.com, exnd01.win.dreamworksstudios.com, exhtcvm01.win.dreamworksstudios.com, ASA.dreamworksstudios.com, livecycle.dreamworksstudios.com, exnd02.win.dreamworksstudios.com, exhtcvm03.win.dreamworksstudios.com, vpn.dreamworksstudios.com, autodiscover.dreamworksstudios.com, exhtcvm02.win.dreamworksstudios.com, besvm02.win.dreamworksstudios.com]     |[DREAMWORKS II DISTRIBUTION CO., LLC]                                                                                                                                                                     |[California US]    |1                  |16                     |\n",
      "|vpn.dreamworksstudios.com        |[]                                                                                                           |[exchange.dreamworksstudios.com, ales0101.win.dreamworksstudios.com, dreamworksstudios.com, besvm01.win.dreamworksstudios.com, webmail.dreamworksstudios.com, dwstransfer.dreamworksstudios.com, exchange01.win.dreamworksstudios.com, exnd01.win.dreamworksstudios.com, exhtcvm01.win.dreamworksstudios.com, ASA.dreamworksstudios.com, livecycle.dreamworksstudios.com, exnd02.win.dreamworksstudios.com, exhtcvm03.win.dreamworksstudios.com, autodiscover.dreamworksstudios.com, exhtcvm02.win.dreamworksstudios.com, besvm02.win.dreamworksstudios.com]|[DREAMWORKS II DISTRIBUTION CO., LLC]                                                                                                                                                                     |[California US]    |1                  |16                     |\n",
      "|livecycle.dreamworksstudios.com  |[]                                                                                                           |[exchange.dreamworksstudios.com, ales0101.win.dreamworksstudios.com, dreamworksstudios.com, besvm01.win.dreamworksstudios.com, webmail.dreamworksstudios.com, exchange01.win.dreamworksstudios.com, exnd01.win.dreamworksstudios.com, exhtcvm01.win.dreamworksstudios.com, ASA.dreamworksstudios.com, exnd02.win.dreamworksstudios.com, vpn.dreamworksstudios.com, exhtcvm03.win.dreamworksstudios.com, autodiscover.dreamworksstudios.com, exhtcvm02.win.dreamworksstudios.com, besvm02.win.dreamworksstudios.com]                                         |[DREAMWORKS II DISTRIBUTION CO., LLC]                                                                                                                                                                     |[California US]    |1                  |15                     |\n",
      "|dwstransfer.dreamworksstudios.com|[]                                                                                                           |[exchange.dreamworksstudios.com, dreamworksstudios.com, besvm01.win.dreamworksstudios.com, webmail.dreamworksstudios.com, exchange01.win.dreamworksstudios.com, exnd01.win.dreamworksstudios.com, exhtcvm01.win.dreamworksstudios.com, livecycle.dreamworksstudios.com, exnd02.win.dreamworksstudios.com, exhtcvm03.win.dreamworksstudios.com, vpn.dreamworksstudios.com, autodiscover.dreamworksstudios.com, exhtcvm02.win.dreamworksstudios.com, besvm02.win.dreamworksstudios.com]                                                                       |[DREAMWORKS II DISTRIBUTION CO., LLC]                                                                                                                                                                     |[California US]    |1                  |14                     |\n",
      "|webmail.dreamworksstudios.com    |[]                                                                                                           |[exchange.dreamworksstudios.com, jabber.amblinpartners.com, vex-edge.amblinpartners.com, AutoDiscover.DreamWorksStudios.com, amblinpartners.com, autodiscover.amblinpartners.com, autodiscover.andyspahn.com, AutoDiscover.AndySpahn.com, AutoDiscover.GONRINGSPAHN.COM, autodiscover.dreamworksstudios.com, autodiscover.gonringspahn.com, exchange.amblinpartners.com, webmail.amblinpartners.com, vex-ctrl.amblinpartners.com]                                                                                                                           |[DREAMWORKS II DISTRIBUTION CO., LLC]                                                                                                                                                                     |[California US]    |1                  |14                     |\n",
      "|dreamworks.com                   |[*.dreamworks.com, via.dreamworks.com, zulip-dev.dreamworks.com, chat.dreamworks.com, connect.dreamworks.com]|[dreamworkstv.com, *.howtotrainyourdragon.com, teamturbofast.com, kingjulien.com, *.kingjulien.com, *.dreamworkstv.com, *.teamturbofast.com, *.dreamworksanimation.com, adventuresofpussinboots.com, dreamworksanimation.com, howtotrainyourdragon.com, *.adventuresofpussinboots.com]                                                                                                                                                                                                                                                                      |[DreamWorks Animation L.L.C., Dreamworks Animation, DREAMWORKS ANIMATION SKG, INC., DreamWorks Animation LLC]                                                                                             |[California US]    |4                  |12                     |\n",
      "|vex-edge.amblinpartners.com      |[]                                                                                                           |[exchange.dreamworksstudios.com, AutoDiscover.AndySpahn.com, jabber.amblinpartners.com, AutoDiscover.GONRINGSPAHN.COM, webmail.dreamworksstudios.com, AutoDiscover.DreamWorksStudios.com, amblinpartners.com, exchange.amblinpartners.com, webmail.amblinpartners.com, autodiscover.amblinpartners.com, vex-ctrl.amblinpartners.com]                                                                                                                                                                                                                        |[DREAMWORKS II DISTRIBUTION CO., LLC]                                                                                                                                                                     |[California US]    |1                  |11                     |\n",
      "|owa.dwextra.com                  |[]                                                                                                           |[shrews.win.dreamworks.com, devilrays.win.dreamworks.com, pilgrims.win.dreamworks.com, pool.win.dreamworks.com, royals.win.dreamworks.com, northcarolina.win.dreamworks.com, georgia.win.dreamworks.com]                                                                                                                                                                                                                                                                                                                                                    |[Dreamworks Animation]                                                                                                                                                                                    |[California US]    |1                  |7                      |\n",
      "|www.dreamworksrc.com             |[]                                                                                                           |[dreamworksrc.com]                                                                                                                                                                                                                                                                                                                                                                                                                                                                                                                                          |[Dreamworks Model Products LLC, DreamWorks Model Products, LLC, DREAMWORKS MODEL PRODUCTS, LLC]                                                                                                           |[Florida US, FL US]|3                  |1                      |\n",
      "|www.dreamplaceexperience.com     |[]                                                                                                           |[dreamplaceexperience.com]                                                                                                                                                                                                                                                                                                                                                                                                                                                                                                                                  |[DreamWorks Animation, Dreamworks Animation]                                                                                                                                                              |[California US]    |2                  |1                      |\n",
      "|careers.oriental-dreamworks.com  |[]                                                                                                           |[jobs.oriental-dreamworks.com]                                                                                                                                                                                                                                                                                                                                                                                                                                                                                                                              |[Shanghai Oriental DreamWorks Film and Television Technology Co.,Ltd., Oriental DreamWorks Film and Television Technology Co., Ltd., Shanghai Oriental DreamWorks Film and Television Technology Co.,LTD.]|[Shanghai CN]      |3                  |1                      |\n",
      "|connect.pdi.com                  |[]                                                                                                           |[]                                                                                                                                                                                                                                                                                                                                                                                                                                                                                                                                                          |[Dreamworks Animation]                                                                                                                                                                                    |[California US]    |1                  |0                      |\n",
      "|connect.ddu.dreamworks.com       |[]                                                                                                           |[]                                                                                                                                                                                                                                                                                                                                                                                                                                                                                                                                                          |[Dreamworks Animation]                                                                                                                                                                                    |[California US]    |1                  |0                      |\n",
      "|dreamworksanimation.com          |[*.dreamworksanimation.com]                                                                                  |[]                                                                                                                                                                                                                                                                                                                                                                                                                                                                                                                                                          |[DreamWorks Animation L.L.C., Dreamworks Animation]                                                                                                                                                       |[California US]    |2                  |0                      |\n",
      "|apps.dreamworks.com              |[]                                                                                                           |[]                                                                                                                                                                                                                                                                                                                                                                                                                                                                                                                                                          |[DREAMWORKS ANIMATION SKG INC.]                                                                                                                                                                           |[California US]    |1                  |0                      |\n",
      "|teamturbofast.com                |[*.teamturbofast.com]                                                                                        |[]                                                                                                                                                                                                                                                                                                                                                                                                                                                                                                                                                          |[DreamWorks Animation LLC]                                                                                                                                                                                |[California US]    |1                  |0                      |\n",
      "|nova-mgs.com                     |[*.nova-mgs.com]                                                                                             |[]                                                                                                                                                                                                                                                                                                                                                                                                                                                                                                                                                          |[DreamWorks Animation LLC]                                                                                                                                                                                |[California US]    |1                  |0                      |\n",
      "|dreamworkstv.com                 |[*.dreamworkstv.com]                                                                                         |[]                                                                                                                                                                                                                                                                                                                                                                                                                                                                                                                                                          |[DreamWorks Animation L.L.C.]                                                                                                                                                                             |[California US]    |1                  |0                      |\n",
      "|anim.dreamworks.com              |[*.anim.dreamworks.com]                                                                                      |[]                                                                                                                                                                                                                                                                                                                                                                                                                                                                                                                                                          |[DreamWorks Animation LLC]                                                                                                                                                                                |[California US]    |1                  |0                      |\n",
      "+---------------------------------+-------------------------------------------------------------------------------------------------------------+------------------------------------------------------------------------------------------------------------------------------------------------------------------------------------------------------------------------------------------------------------------------------------------------------------------------------------------------------------------------------------------------------------------------------------------------------------------------------------------------------------------------------------------------------------+----------------------------------------------------------------------------------------------------------------------------------------------------------------------------------------------------------+-------------------+-------------------+-----------------------+\n",
      "only showing top 20 rows\n",
      "\n"
     ]
    }
   ],
   "source": [
    "classified.show(truncate=False)"
   ]
  },
  {
   "cell_type": "code",
   "execution_count": 16,
   "metadata": {},
   "outputs": [],
   "source": [
    "from pyspark.sql.types import StringType\n",
    "import re\n",
    "# UDF to normalize organization names\n",
    "def normalize_org_name(org):\n",
    "    if org is None:\n",
    "        return None\n",
    "    org = org.strip()                                           # Remove leading/trailing spaces\n",
    "    org = re.sub(r\",\", \"\", org)                                 # Remove commas\n",
    "    org = re.sub(r\"\\s+\", \" \", org)                              # Normalize multiple spaces\n",
    "    org = re.sub(r\"\\bLLC\\b\", \"LLC.\", org, flags=re.IGNORECASE)  # Standardize LLC\n",
    "    org = re.sub(r\"\\bINC\\b\", \"Inc.\", org, flags=re.IGNORECASE)  # Standardize Inc\n",
    "    org = re.sub(r\"\\bLTD\\b\", \"Ltd.\", org, flags=re.IGNORECASE)  # Standardize Ltd\n",
    "    org = re.sub(r\"\\bSKG\\b\", \"SKG\", org, flags=re.IGNORECASE)   # Keep SKG unchanged\n",
    "    org = \" \".join(word.capitalize() for word in org.split())   # Convert to title case\n",
    "    return org\n",
    "normalize_org_udf = udf(normalize_org_name, StringType())\n",
    "\n",
    "organizations = (\n",
    "    out.filter(col(\"organization\").isNotNull()) \n",
    "    .withColumn(\"organization\", normalize_org_udf(col(\"organization\")))\n",
    "    .withColumn(\"domain\", regexp_replace(col(\"domain\"), r\"^\\*\\.\", \"\"))\n",
    "    .withColumn(\"alternate_domain\", regexp_replace(col(\"alternate_domain\"), r\"^\\*\\.\", \"\"))\n",
    "    .groupBy(\"organization\")\n",
    "    .agg(\n",
    "        collect_set(\"domain\").alias(\"domains\"),\n",
    "        collect_set(\"alternate_domain\").alias(\"alternate_domains\"),\n",
    "        collect_set(\"address\").alias(\"addresses\")\n",
    "    )\n",
    ")"
   ]
  },
  {
   "cell_type": "code",
   "execution_count": 17,
   "metadata": {},
   "outputs": [
    {
     "name": "stdout",
     "output_type": "stream",
     "text": [
      "+--------------------------------------------------------------------+-------------------------------------------------------------------------------------------------------------------------------------------------------------------------------------------------------------------------------------------------+-----------------------------------------------------------------------------------------------------------------------------------------------------------------------------------------------------------------------------------------------------------------------------------------------------------------------------------------------------------------------------------------------------------------------------------------------------------------------------------------------------------------------------------------------------------------------------------------------------------------------------------------------------------------------------------------------------------------------------------------------------------------------------------------------------------------------------------------------------------------------------------------------------------------------------------------------------------------------------------+-------------------------------+\n",
      "|organization                                                        |domains                                                                                                                                                                                                                                          |alternate_domains                                                                                                                                                                                                                                                                                                                                                                                                                                                                                                                                                                                                                                                                                                                                                                                                                                                                                                                                                                  |addresses                      |\n",
      "+--------------------------------------------------------------------+-------------------------------------------------------------------------------------------------------------------------------------------------------------------------------------------------------------------------------------------------+-----------------------------------------------------------------------------------------------------------------------------------------------------------------------------------------------------------------------------------------------------------------------------------------------------------------------------------------------------------------------------------------------------------------------------------------------------------------------------------------------------------------------------------------------------------------------------------------------------------------------------------------------------------------------------------------------------------------------------------------------------------------------------------------------------------------------------------------------------------------------------------------------------------------------------------------------------------------------------------+-------------------------------+\n",
      "|Shadow Dreamworks Llc.                                              |[chadwrichardson.com]                                                                                                                                                                                                                            |[www.chadwrichardson.com, chadwrichardson.com]                                                                                                                                                                                                                                                                                                                                                                                                                                                                                                                                                                                                                                                                                                                                                                                                                                                                                                                                     |[Georgia US]                   |\n",
      "|Dreamworks Ii Distribution Co. Llc.                                 |[exchange.dreamworksstudios.com, dreamworksstudios.com, webmail.dreamworksstudios.com, dwstransfer.dreamworksstudios.com, vex-edge.amblinpartners.com, vpn.dreamworksstudios.com, cumulus.dreamworksstudios.com, livecycle.dreamworksstudios.com]|[exchange.dreamworksstudios.com, jabber.amblinpartners.com, ales0101.win.dreamworksstudios.com, webmail.dreamworksstudios.com, vex-edge.amblinpartners.com, autodiscover.amblinpartners.com, AutoDiscover.AndySpahn.com, AutoDiscover.GONRINGSPAHN.COM, exnd02.win.dreamworksstudios.com, exhtcvm03.win.dreamworksstudios.com, autodiscover.gonringspahn.com, webmail.amblinpartners.com, besvm02.win.dreamworksstudios.com, vex-ctrl.amblinpartners.com, dreamworksstudios.com, besvm01.win.dreamworksstudios.com, dwstransfer.dreamworksstudios.com, AutoDiscover.DreamWorksStudios.com, exchange01.win.dreamworksstudios.com, exnd01.win.dreamworksstudios.com, amblinpartners.com, exhtcvm01.win.dreamworksstudios.com, cumulus.dreamworksstudios.com, ASA.dreamworksstudios.com, livecycle.dreamworksstudios.com, autodiscover.andyspahn.com, vpn.dreamworksstudios.com, autodiscover.dreamworksstudios.com, exhtcvm02.win.dreamworksstudios.com, exchange.amblinpartners.com]|[California US]                |\n",
      "|Dreamworks Animation                                                |[connect.pdi.com, www.dreamplaceexperience.com, owa.dwextra.com, connect.ddu.dreamworks.com, dreamworksanimation.com, dreamworks.com, connect.dreamworks.com]                                                                                    |[dreamplaceexperience.com, connect.ddu.dreamworks.com, royals.win.dreamworks.com, georgia.win.dreamworks.com, connect.pdi.com, shrews.win.dreamworks.com, www.dreamplaceexperience.com, devilrays.win.dreamworks.com, owa.dwextra.com, pilgrims.win.dreamworks.com, pool.win.dreamworks.com, dreamworksanimation.com, dreamworks.com, connect.dreamworks.com, northcarolina.win.dreamworks.com]                                                                                                                                                                                                                                                                                                                                                                                                                                                                                                                                                                                    |[California US]                |\n",
      "|Oriental Dreamworks Film And Television Technology Co. Ltd..        |[careers.oriental-dreamworks.com]                                                                                                                                                                                                                |[careers.oriental-dreamworks.com, jobs.oriental-dreamworks.com]                                                                                                                                                                                                                                                                                                                                                                                                                                                                                                                                                                                                                                                                                                                                                                                                                                                                                                                    |[Shanghai CN]                  |\n",
      "|Dreamworks Model Products Llc.                                      |[www.dreamworksrc.com]                                                                                                                                                                                                                           |[www.dreamworksrc.com, dreamworksrc.com]                                                                                                                                                                                                                                                                                                                                                                                                                                                                                                                                                                                                                                                                                                                                                                                                                                                                                                                                           |[Florida US, FL US]            |\n",
      "|Dreamworks Animation L.l.c.                                         |[dreamworkstv.com, dreamworksanimation.com, dreamworks.com, captiveportal-login.dreamworks.com]                                                                                                                                                  |[dreamworkstv.com, teamturbofast.com, kingjulien.com, via.dreamworks.com, chat.dreamworks.com, zulip-dev.dreamworks.com, adventuresofpussinboots.com, dreamworksanimation.com, dreamworks.com, howtotrainyourdragon.com, connect.dreamworks.com, captiveportal-login.dreamworks.com]                                                                                                                                                                                                                                                                                                                                                                                                                                                                                                                                                                                                                                                                                               |[California US]                |\n",
      "|Shanghai Oriental Dreamworks Film And Television Technology Co.ltd..|[careers.oriental-dreamworks.com]                                                                                                                                                                                                                |[careers.oriental-dreamworks.com, jobs.oriental-dreamworks.com]                                                                                                                                                                                                                                                                                                                                                                                                                                                                                                                                                                                                                                                                                                                                                                                                                                                                                                                    |[Shanghai CN]                  |\n",
      "|Dreamworks Animation Skg Inc..                                      |[dreamworksstudios.com, apps.dreamworks.com, dreamworksdragons.com, dreamworks.com, content.dreamworks.com]                                                                                                                                      |[exchange.dreamworksstudios.com, dreamworksstudios.com, webmail.dreamworksstudios.com, exchange01.win.dreamworksstudios.com, exnd01.win.dreamworksstudios.com, exhtcvm01.win.dreamworksstudios.com, exnd02.win.dreamworksstudios.com, apps.dreamworks.com, exhtcvm03.win.dreamworksstudios.com, dreamworksdragons.com, dreamworks.com, content.dreamworks.com, autodiscover.dreamworksstudios.com, exhtcvm02.win.dreamworksstudios.com]                                                                                                                                                                                                                                                                                                                                                                                                                                                                                                                                            |[California US]                |\n",
      "|Dreamworks Animation Llc.                                           |[dreamworksshop.com, anim.dreamworks.com, teamturbofast.com, dreamworks.com, content.dreamworks.com, pdi.com, nova-mgs.com, kungfupandaworld.com]                                                                                                |[dreamworksshop.com, anim.dreamworks.com, teamturbofast.com, kingjulien.com, adventuresofpussinboots.com, dreamworks.com, howtotrainyourdragon.com, content.dreamworks.com, pdi.com, nova-mgs.com, kungfupandaworld.com]                                                                                                                                                                                                                                                                                                                                                                                                                                                                                                                                                                                                                                                                                                                                                           |[California  US, California US]|\n",
      "|                                                                    |[vote.mihnea.dev, www.mihnea.dev, mihnea.dev, instance.mihnea.dev, logstream.mihnea.dev, ip-to-domain.mihnea.dev]                                                                                                                                |[vote.mihnea.dev, www.mihnea.dev, mihnea.dev, instance.mihnea.dev, logstream.mihnea.dev, ip-to-domain.mihnea.dev]                                                                                                                                                                                                                                                                                                                                                                                                                                                                                                                                                                                                                                                                                                                                                                                                                                                                  |[]                             |\n",
      "+--------------------------------------------------------------------+-------------------------------------------------------------------------------------------------------------------------------------------------------------------------------------------------------------------------------------------------+-----------------------------------------------------------------------------------------------------------------------------------------------------------------------------------------------------------------------------------------------------------------------------------------------------------------------------------------------------------------------------------------------------------------------------------------------------------------------------------------------------------------------------------------------------------------------------------------------------------------------------------------------------------------------------------------------------------------------------------------------------------------------------------------------------------------------------------------------------------------------------------------------------------------------------------------------------------------------------------+-------------------------------+\n",
      "\n"
     ]
    }
   ],
   "source": [
    "\n",
    "organizations.show(truncate=False)"
   ]
  },
  {
   "cell_type": "code",
   "execution_count": null,
   "metadata": {},
   "outputs": [],
   "source": []
  }
 ],
 "metadata": {
  "kernelspec": {
   "display_name": "Python 3",
   "language": "python",
   "name": "python3"
  },
  "language_info": {
   "codemirror_mode": {
    "name": "ipython",
    "version": 3
   },
   "file_extension": ".py",
   "mimetype": "text/x-python",
   "name": "python",
   "nbconvert_exporter": "python",
   "pygments_lexer": "ipython3",
   "version": "3.12.1"
  }
 },
 "nbformat": 4,
 "nbformat_minor": 2
}
